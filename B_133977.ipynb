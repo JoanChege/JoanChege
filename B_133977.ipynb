{
  "nbformat": 4,
  "nbformat_minor": 0,
  "metadata": {
    "colab": {
      "provenance": [],
      "mount_file_id": "1Xw2as4hQpLDNhBnPWHE6FjJ36BQEIPzm",
      "authorship_tag": "ABX9TyN478B889f/eGoYj+5OCj+2",
      "include_colab_link": true
    },
    "kernelspec": {
      "name": "python3",
      "display_name": "Python 3"
    },
    "language_info": {
      "name": "python"
    }
  },
  "cells": [
    {
      "cell_type": "markdown",
      "metadata": {
        "id": "view-in-github",
        "colab_type": "text"
      },
      "source": [
        "<a href=\"https://colab.research.google.com/github/JoanChege/JoanChege/blob/main/B_133977.ipynb\" target=\"_parent\"><img src=\"https://colab.research.google.com/assets/colab-badge.svg\" alt=\"Open In Colab\"/></a>"
      ]
    },
    {
      "cell_type": "markdown",
      "source": [
        "Import data\n"
      ],
      "metadata": {
        "id": "hH-S87tHmycs"
      }
    },
    {
      "cell_type": "code",
      "execution_count": null,
      "metadata": {
        "id": "mVwkHNTGezwY"
      },
      "outputs": [],
      "source": [
        "import pandas as pd\n",
        "import numpy as np\n",
        "\n",
        "Clustering_df = pd.read_csv('Clustering_Data.csv')\n",
        "Clustering_df.head()"
      ]
    },
    {
      "cell_type": "code",
      "source": [
        "from google.colab import drive\n",
        "drive.mount('/content/drive')"
      ],
      "metadata": {
        "colab": {
          "base_uri": "https://localhost:8080/"
        },
        "id": "fx6xWAB4pUVM",
        "outputId": "3e69d2d4-fbff-47a0-fb17-7ee1267adece"
      },
      "execution_count": 2,
      "outputs": [
        {
          "output_type": "stream",
          "name": "stdout",
          "text": [
            "Drive already mounted at /content/drive; to attempt to forcibly remount, call drive.mount(\"/content/drive\", force_remount=True).\n"
          ]
        }
      ]
    },
    {
      "cell_type": "code",
      "source": [
        "print(Clustering_df.shape)"
      ],
      "metadata": {
        "id": "nqds3lhJRIH5"
      },
      "execution_count": null,
      "outputs": []
    },
    {
      "cell_type": "code",
      "source": [
        "for col in Clustering_df.columns:"
      ],
      "metadata": {
        "id": "xP6KhIVKRgau"
      },
      "execution_count": null,
      "outputs": []
    },
    {
      "cell_type": "markdown",
      "source": [
        "Prepare data"
      ],
      "metadata": {
        "id": "aB2SJvhORTnN"
      }
    },
    {
      "cell_type": "code",
      "source": [
        "print(Clustering_df())"
      ],
      "metadata": {
        "id": "REZWsggpRbaP"
      },
      "execution_count": null,
      "outputs": []
    },
    {
      "cell_type": "code",
      "source": [
        "Clustering_df = Clustering_df.dropna(axis=0)\n",
        "\n",
        "print(Clustering_df.isna().sum())"
      ],
      "metadata": {
        "id": "Lp4fHjxVSDaJ"
      },
      "execution_count": null,
      "outputs": []
    },
    {
      "cell_type": "code",
      "source": [
        "from sklearn.preprocessing import LabelEncoder\n",
        "le = LabelEncoder()\n",
        "\n",
        "Clustering_df['Age'] = le.fit_transform(Clustering_df['Age'])\n",
        "Clustering_df['Height'] = le.fit_transform(Clustering_df['Height'])\n",
        "Clustering_df['Weight'] = le.fit_transform(Clustering_df['Weight'])\n",
        "Clustering_df['FCVC'] = le.fit_transform(Clustering_df['FCVC'])\n",
        "Clustering_df['NCP'] = le.fit_transform(Clustering_df['NCP'])\n",
        "Clustering_df['CH2O'] = le.fit_transform(Clustering_df['CH2O'])\n",
        "Clustering_df['FAF'] = le.fit_transform(Clustering_df['FAF'])\n",
        "Clustering_df['TUE'] = le.fit_transform(Clustering_df['TUE'])\n",
        "\n",
        "Clustering_df = Clustering_df.sample(frac=1).reset_index(drop = True)\n",
        "\n",
        "\n",
        "\n",
        "\n",
        "print(Clustering_df.info())"
      ],
      "metadata": {
        "id": "_oCoO7K2SkRD"
      },
      "execution_count": null,
      "outputs": []
    },
    {
      "cell_type": "markdown",
      "source": [
        "clustering"
      ],
      "metadata": {
        "id": "iKxbU9smSqbS"
      }
    },
    {
      "cell_type": "code",
      "source": [
        "from sklearn.cluster import KMeans\n",
        "\n",
        "kmeans_object = KMeans(n_clusters = 5)\n",
        "\n",
        "kmeans_object.fit(Clustering_df)\n",
        "\n",
        "print(kmeans_object.cluster_centers_)"
      ],
      "metadata": {
        "id": "pY8yCZkiStPm"
      },
      "execution_count": null,
      "outputs": []
    },
    {
      "cell_type": "code",
      "source": [
        "Clustering_df['New Cluster'] = kmeans_object.labels_\n",
        "Clustering_df.head(7)"
      ],
      "metadata": {
        "id": "7c8gAZwKSzue"
      },
      "execution_count": null,
      "outputs": []
    },
    {
      "cell_type": "code",
      "source": [
        "\n",
        "from sklearn.neighbors import KNeighborsClassifier\n",
        "\n",
        "knn_classifier = KNeighborsClassifier(n_neighbors = 7, metric = 'euclidean')\n",
        "\n",
        "from sklearn.model_selection import train_test_split\n",
        "\n",
        "train, test = train_test_split(Clustering_df, test_size = 0.3)\n",
        "\n",
        "Train_Features_x = train.drop('New Cluster', axis =1)\n",
        "Train_Target_y= train['New Cluster']\n",
        "\n",
        "Test_Features_x= test.drop('New Cluster', axis =1)\n",
        "Test_Target_y= test['New Cluster']\n",
        "\n",
        "\n",
        "knn_classifier.fit(Train_Features_x, Train_Target_y)\n",
        "predictions = knn_classifier.predict(Test_Features_x)\n",
        "from sklearn.metrics import accuracy_score\n",
        "print(accuracy_score(Test_Target_y, predictions))"
      ],
      "metadata": {
        "id": "yrLtjf9iS29x"
      },
      "execution_count": null,
      "outputs": []
    },
    {
      "cell_type": "markdown",
      "source": [
        "classification"
      ],
      "metadata": {
        "id": "At0v4kbZTNdV"
      }
    },
    {
      "cell_type": "code",
      "source": [
        "Classification_df = pd.read_csv('Classification_Data.csv')\n",
        "\n",
        "Classification_df['Cluster'] = knn_classifier.predict(Classification_df)\n",
        "Classification_df = Classification_df.sample(frac = 1)\n",
        "Classification_df.head()"
      ],
      "metadata": {
        "id": "-NpURr4wTPT9"
      },
      "execution_count": null,
      "outputs": []
    }
  ]
}