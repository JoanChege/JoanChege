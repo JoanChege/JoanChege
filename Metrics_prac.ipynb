{
  "nbformat": 4,
  "nbformat_minor": 0,
  "metadata": {
    "colab": {
      "provenance": [],
      "mount_file_id": "1h2saQ1sYT8EzAltUL9P06TEu0WssoR5f",
      "authorship_tag": "ABX9TyOJxK1WswC+hs5aFrMK9/eD",
      "include_colab_link": true
    },
    "kernelspec": {
      "name": "python3",
      "display_name": "Python 3"
    },
    "language_info": {
      "name": "python"
    }
  },
  "cells": [
    {
      "cell_type": "markdown",
      "metadata": {
        "id": "view-in-github",
        "colab_type": "text"
      },
      "source": [
        "<a href=\"https://colab.research.google.com/github/JoanChege/JoanChege/blob/main/Metrics_prac.ipynb\" target=\"_parent\"><img src=\"https://colab.research.google.com/assets/colab-badge.svg\" alt=\"Open In Colab\"/></a>"
      ]
    },
    {
      "cell_type": "code",
      "execution_count": null,
      "metadata": {
        "id": "xkTdoNvRehSa"
      },
      "outputs": [],
      "source": [
        "/content/data_B.csv"
      ]
    },
    {
      "cell_type": "code",
      "source": [
        "%ls"
      ],
      "metadata": {
        "colab": {
          "base_uri": "https://localhost:8080/"
        },
        "id": "MqQ7wFYpfMOP",
        "outputId": "ad180c38-8ca4-4cba-c9dd-70e580b43d17"
      },
      "execution_count": 1,
      "outputs": [
        {
          "output_type": "stream",
          "name": "stdout",
          "text": [
            "data_B.csv  \u001b[0m\u001b[01;34mdrive\u001b[0m/  \u001b[01;34msample_data\u001b[0m/\n"
          ]
        }
      ]
    },
    {
      "cell_type": "code",
      "source": [
        "%pwd"
      ],
      "metadata": {
        "colab": {
          "base_uri": "https://localhost:8080/",
          "height": 36
        },
        "id": "tkb3cY_HfOmw",
        "outputId": "96f08ae2-d154-4630-f7ca-342a6c9fb911"
      },
      "execution_count": 2,
      "outputs": [
        {
          "output_type": "execute_result",
          "data": {
            "text/plain": [
              "'/content'"
            ],
            "application/vnd.google.colaboratory.intrinsic+json": {
              "type": "string"
            }
          },
          "metadata": {},
          "execution_count": 2
        }
      ]
    },
    {
      "cell_type": "code",
      "source": [
        "import pandas as pd\n",
        "\n",
        "df_main = pd.read_csv('data_B.csv')\n",
        "df_main.head(5)"
      ],
      "metadata": {
        "id": "FBbQAtvOe2vr"
      },
      "execution_count": null,
      "outputs": []
    },
    {
      "cell_type": "code",
      "source": [
        "df = df_main.copy( )\n",
        "df.head(5)"
      ],
      "metadata": {
        "id": "zZUCpKlshDpm"
      },
      "execution_count": null,
      "outputs": []
    },
    {
      "cell_type": "code",
      "source": [
        "print(df.dtypes)\n",
        "print('--------' * 10)\n",
        "\n",
        "print(df.isnull().sum())\n",
        "print('--------' * 10)\n",
        "\n",
        "print(df.shape)\n"
      ],
      "metadata": {
        "id": "Nu6aM1nehUHw"
      },
      "execution_count": null,
      "outputs": []
    },
    {
      "cell_type": "code",
      "source": [
        "df.fillna(df.mean(), inplace = True)\n",
        "print(df.isnull().sum())\n"
      ],
      "metadata": {
        "id": "KV1a1xW4jBCq"
      },
      "execution_count": null,
      "outputs": []
    },
    {
      "cell_type": "code",
      "source": [
        "df.head(5)"
      ],
      "metadata": {
        "id": "18LDtUxsjW_n"
      },
      "execution_count": null,
      "outputs": []
    },
    {
      "cell_type": "code",
      "source": [
        "#encoding using key value pairs (key -vals)\n",
        "\n",
        "df['Potability'] = df['Potability'].map({'Portable':1, 'Not Portable':0})\n",
        "df.head(5)"
      ],
      "metadata": {
        "id": "UKWAOHUljjTk"
      },
      "execution_count": null,
      "outputs": []
    },
    {
      "cell_type": "code",
      "source": [
        "x = df.drop('Potability', axis=1)\n",
        "y = df['Potability']"
      ],
      "metadata": {
        "id": "UPiP57tLkKZv"
      },
      "execution_count": 10,
      "outputs": []
    },
    {
      "cell_type": "code",
      "source": [
        "x"
      ],
      "metadata": {
        "id": "sg1CaUt1kgfC"
      },
      "execution_count": null,
      "outputs": []
    },
    {
      "cell_type": "code",
      "source": [
        "y"
      ],
      "metadata": {
        "id": "pIaWa6TUklS_"
      },
      "execution_count": null,
      "outputs": []
    },
    {
      "cell_type": "code",
      "source": [
        "#ts is test size\n",
        "#rs is random state\n",
        "#ts = 0.2\n",
        "#rs = 42\n",
        "import random\n",
        "ts = (random.randint(2, 70)) /100\n",
        "rs = random.randint(1, 50)\n"
      ],
      "metadata": {
        "id": "pvQyxZcJknl2"
      },
      "execution_count": 24,
      "outputs": []
    },
    {
      "cell_type": "code",
      "source": [
        "from sklearn.model_selection import train_test_split\n",
        "\n",
        "x_train, x_test, y_train, y_test = train_test_split(x, y, test_size = ts, random_state= rs)"
      ],
      "metadata": {
        "id": "KM3V2Y1pk7iS"
      },
      "execution_count": 25,
      "outputs": []
    },
    {
      "cell_type": "code",
      "source": [
        "x_train"
      ],
      "metadata": {
        "id": "ok01Ffdvlg1G"
      },
      "execution_count": null,
      "outputs": []
    },
    {
      "cell_type": "code",
      "source": [
        "from sklearn.neighbors import KNeighborsClassifier\n",
        "\n",
        "knn = KNeighborsClassifier()\n",
        "\n",
        "knn.fit(x_train, y_train)\n",
        "\n",
        "#predictions=pred\n",
        "pred = knn.predict(x_test)"
      ],
      "metadata": {
        "id": "2qZC-kmilk9X"
      },
      "execution_count": 27,
      "outputs": []
    },
    {
      "cell_type": "code",
      "source": [
        "pred\n"
      ],
      "metadata": {
        "id": "KVOQEE4TmcK9"
      },
      "execution_count": null,
      "outputs": []
    },
    {
      "cell_type": "code",
      "source": [
        "y_test"
      ],
      "metadata": {
        "id": "FmF0cYbZmgNI"
      },
      "execution_count": null,
      "outputs": []
    },
    {
      "cell_type": "code",
      "source": [
        "from sklearn.metrics import confusion_matrix\n",
        "\n",
        "cm = confusion_matrix(y_test, pred)\n",
        "print(cm)\n"
      ],
      "metadata": {
        "id": "BjdztyYCmlc1"
      },
      "execution_count": null,
      "outputs": []
    },
    {
      "cell_type": "code",
      "source": [
        "import matplotlib.pyplot as plt\n",
        "import seaborn as sns\n",
        "\n",
        "plt.figure(figsize= (5,5))\n",
        "sns.heatmap(cm, annot=True, fmt='d', linewidths=0.5, square=True, cmap= 'Reds_r')\n",
        "plt.ylabel('Actual')\n",
        "plt.xlabel('Predicted')\n",
        "plt.show()"
      ],
      "metadata": {
        "colab": {
          "base_uri": "https://localhost:8080/",
          "height": 309
        },
        "id": "Vdar98SHm9EA",
        "outputId": "fd67f200-bb6f-45a8-bc08-88f58a6253a2"
      },
      "execution_count": 34,
      "outputs": [
        {
          "output_type": "display_data",
          "data": {
            "text/plain": [
              "<Figure size 360x360 with 2 Axes>"
            ],
            "image/png": "[encoded data removed]"
          },
          "metadata": {
            "needs_background": "light"
          }
        }
      ]
    },
    {
      "cell_type": "code",
      "source": [
        "from sklearn.metrics import classification_report\n",
        "\n",
        "print(classification_report(y_test, pred))"
      ],
      "metadata": {
        "colab": {
          "base_uri": "https://localhost:8080/"
        },
        "id": "rEYAT0iMnvBn",
        "outputId": "d2368fa9-987b-42d4-faba-d70a853b4952"
      },
      "execution_count": 33,
      "outputs": [
        {
          "output_type": "stream",
          "name": "stdout",
          "text": [
            "              precision    recall  f1-score   support\n",
            "\n",
            "           0       0.62      0.74      0.67      1156\n",
            "           1       0.42      0.29      0.34       745\n",
            "\n",
            "    accuracy                           0.56      1901\n",
            "   macro avg       0.52      0.51      0.51      1901\n",
            "weighted avg       0.54      0.56      0.54      1901\n",
            "\n"
          ]
        }
      ]
    }
  ]
}