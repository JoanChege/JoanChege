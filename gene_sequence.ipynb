{
  "nbformat": 4,
  "nbformat_minor": 0,
  "metadata": {
    "colab": {
      "provenance": [],
      "authorship_tag": "ABX9TyNaBlLYnQStMKY+CeKSwmed",
      "include_colab_link": true
    },
    "kernelspec": {
      "name": "ir",
      "display_name": "R"
    },
    "language_info": {
      "name": "R"
    }
  },
  "cells": [
    {
      "cell_type": "markdown",
      "metadata": {
        "id": "view-in-github",
        "colab_type": "text"
      },
      "source": [
        "<a href=\"https://colab.research.google.com/github/JoanChege/JoanChege/blob/main/gene_sequence.ipynb\" target=\"_parent\"><img src=\"https://colab.research.google.com/assets/colab-badge.svg\" alt=\"Open In Colab\"/></a>"
      ]
    },
    {
      "cell_type": "code",
      "execution_count": 2,
      "metadata": {
        "colab": {
          "base_uri": "https://localhost:8080/"
        },
        "id": "Vg7uPEJ4VjMi",
        "outputId": "d3934205-8532-49a4-80b4-45080d2104c8"
      },
      "outputs": [
        {
          "output_type": "stream",
          "name": "stderr",
          "text": [
            "Installing package into ‘/usr/local/lib/R/site-library’\n",
            "(as ‘lib’ is unspecified)\n",
            "\n"
          ]
        }
      ],
      "source": [
        "if(!require(\"BiocManager\",quietly=TRUE))\n",
        "install.packages(\"BiocManager\")"
      ]
    },
    {
      "cell_type": "code",
      "source": [
        "BiocManager::install('Biostrings')"
      ],
      "metadata": {
        "colab": {
          "base_uri": "https://localhost:8080/"
        },
        "id": "9lNkzZUlV2v8",
        "outputId": "46572c0a-3077-47d1-8b0b-9eb29b3e4ca2"
      },
      "execution_count": null,
      "outputs": [
        {
          "output_type": "stream",
          "name": "stderr",
          "text": [
            "'getOption(\"repos\")' replaces Bioconductor standard repositories, see\n",
            "'help(\"repositories\", package = \"BiocManager\")' for details.\n",
            "Replacement repositories:\n",
            "    CRAN: https://cran.rstudio.com\n",
            "\n",
            "Bioconductor version 3.18 (BiocManager 1.30.22), R 4.3.2 (2023-10-31)\n",
            "\n",
            "Installing package(s) 'BiocVersion', 'Biostrings'\n",
            "\n",
            "also installing the dependencies ‘bitops’, ‘zlibbioc’, ‘RCurl’, ‘GenomeInfoDbData’, ‘BiocGenerics’, ‘S4Vectors’, ‘IRanges’, ‘XVector’, ‘GenomeInfoDb’\n",
            "\n",
            "\n"
          ]
        }
      ]
    },
    {
      "cell_type": "code",
      "source": [
        "library(Biostrings)\n",
        "#once the installation is completed load the biostrings using the library function"
      ],
      "metadata": {
        "id": "W2fhCyzJWFnF"
      },
      "execution_count": null,
      "outputs": []
    },
    {
      "cell_type": "code",
      "source": [
        "DNAString(c(\"ACACTTG\"))\n",
        "#DNA string is an instance\n",
        "#ACACTTG is a sequence of 7 letters"
      ],
      "metadata": {
        "id": "tflfa-nwXEFe"
      },
      "execution_count": null,
      "outputs": []
    },
    {
      "cell_type": "code",
      "source": [
        "dna = DNAStringSet(c(\"ACACTTG\", \"GCCGTCGNM\"))\n",
        "dna\n",
        "#output - [1]  7 ACACTTG\n",
        "# [2] 9 GCCGTCGNM\n"
      ],
      "metadata": {
        "id": "MXnxvh4EXxYh"
      },
      "execution_count": null,
      "outputs": []
    },
    {
      "cell_type": "code",
      "source": [
        "#we can perform basic analysis of the dna string using the alphabet frequency ( ) i.e\n",
        "alphabetFrequency(dna, baseonly = TRUE)\n",
        "\n",
        "#output ACGT Others\n",
        "# [1] 2 2 1 2\n",
        "# [2] 0 3 3 1 2"
      ],
      "metadata": {
        "id": "2wjosnIYa2Dl"
      },
      "execution_count": null,
      "outputs": []
    }
  ]
}