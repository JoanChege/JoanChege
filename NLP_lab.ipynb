{
  "nbformat": 4,
  "nbformat_minor": 0,
  "metadata": {
    "colab": {
      "provenance": [],
      "authorship_tag": "ABX9TyPEDepRc4NnE5dTMaTdJrRc",
      "include_colab_link": true
    },
    "kernelspec": {
      "name": "python3",
      "display_name": "Python 3"
    },
    "language_info": {
      "name": "python"
    }
  },
  "cells": [
    {
      "cell_type": "markdown",
      "metadata": {
        "id": "view-in-github",
        "colab_type": "text"
      },
      "source": [
        "<a href=\"https://colab.research.google.com/github/JoanChege/JoanChege/blob/main/NLP_lab.ipynb\" target=\"_parent\"><img src=\"https://colab.research.google.com/assets/colab-badge.svg\" alt=\"Open In Colab\"/></a>"
      ]
    },
    {
      "cell_type": "code",
      "execution_count": 1,
      "metadata": {
        "id": "hWjTj9yOU1U6"
      },
      "outputs": [],
      "source": [
        "!pip install nltk -q"
      ]
    },
    {
      "cell_type": "code",
      "source": [
        "import nltk\n",
        "\n",
        "nltk.download('stopwords')\n",
        "nltk.download('punkt')\n"
      ],
      "metadata": {
        "colab": {
          "base_uri": "https://localhost:8080/"
        },
        "id": "KnY13ADXXMvj",
        "outputId": "05644d52-01fe-48ab-ca82-198de8e464f1"
      },
      "execution_count": 2,
      "outputs": [
        {
          "output_type": "stream",
          "name": "stderr",
          "text": [
            "[nltk_data] Downloading package stopwords to /root/nltk_data...\n",
            "[nltk_data]   Unzipping corpora/stopwords.zip.\n",
            "[nltk_data] Downloading package punkt to /root/nltk_data...\n",
            "[nltk_data]   Unzipping tokenizers/punkt.zip.\n"
          ]
        },
        {
          "output_type": "execute_result",
          "data": {
            "text/plain": [
              "True"
            ]
          },
          "metadata": {},
          "execution_count": 2
        }
      ]
    },
    {
      "cell_type": "code",
      "source": [
        "!pip install datasets -q"
      ],
      "metadata": {
        "colab": {
          "base_uri": "https://localhost:8080/"
        },
        "id": "3J1NhC2KYHkp",
        "outputId": "9a5aed52-1e4b-445e-f779-e297cf088c63"
      },
      "execution_count": 3,
      "outputs": [
        {
          "output_type": "stream",
          "name": "stdout",
          "text": [
            "\u001b[K     |████████████████████████████████| 441 kB 5.3 MB/s \n",
            "\u001b[K     |████████████████████████████████| 212 kB 56.5 MB/s \n",
            "\u001b[K     |████████████████████████████████| 163 kB 59.2 MB/s \n",
            "\u001b[K     |████████████████████████████████| 115 kB 61.0 MB/s \n",
            "\u001b[K     |████████████████████████████████| 95 kB 4.6 MB/s \n",
            "\u001b[K     |████████████████████████████████| 127 kB 61.3 MB/s \n",
            "\u001b[K     |████████████████████████████████| 115 kB 75.9 MB/s \n",
            "\u001b[?25h"
          ]
        }
      ]
    },
    {
      "cell_type": "code",
      "source": [
        "from datasets import load_dataset\n",
        "\n",
        "dataset = load_dataset(\"tweet_eval\", \"emoji\")"
      ],
      "metadata": {
        "id": "_K1CJ_UmZMvc"
      },
      "execution_count": null,
      "outputs": []
    },
    {
      "cell_type": "code",
      "source": [
        "dataset"
      ],
      "metadata": {
        "colab": {
          "base_uri": "https://localhost:8080/"
        },
        "id": "azP7tL-nbC0N",
        "outputId": "33087102-0829-4184-f383-833b251479ec"
      },
      "execution_count": 8,
      "outputs": [
        {
          "output_type": "execute_result",
          "data": {
            "text/plain": [
              "DatasetDict({\n",
              "    train: Dataset({\n",
              "        features: ['text', 'label'],\n",
              "        num_rows: 45000\n",
              "    })\n",
              "    test: Dataset({\n",
              "        features: ['text', 'label'],\n",
              "        num_rows: 50000\n",
              "    })\n",
              "    validation: Dataset({\n",
              "        features: ['text', 'label'],\n",
              "        num_rows: 5000\n",
              "    })\n",
              "})"
            ]
          },
          "metadata": {},
          "execution_count": 8
        }
      ]
    },
    {
      "cell_type": "code",
      "source": [
        "texts = dataset['validation']['text']\n",
        "labels = dataset['validation']['label']\n",
        "\n",
        "print(len(texts), len(labels))"
      ],
      "metadata": {
        "colab": {
          "base_uri": "https://localhost:8080/"
        },
        "id": "V84qEFg3cA7s",
        "outputId": "1cf5fed4-8a60-4e90-9972-c90525783779"
      },
      "execution_count": 7,
      "outputs": [
        {
          "output_type": "stream",
          "name": "stdout",
          "text": [
            "5000 5000\n"
          ]
        }
      ]
    },
    {
      "cell_type": "code",
      "source": [
        "import pandas as pd\n",
        "\n",
        "df = pd.DataFrame()"
      ],
      "metadata": {
        "id": "eEZlwpqAcWsx"
      },
      "execution_count": 10,
      "outputs": []
    },
    {
      "cell_type": "code",
      "source": [
        "df['texts'] = texts\n",
        "df['labels'] = labels\n",
        "df"
      ],
      "metadata": {
        "id": "t_3jRxSSclJh"
      },
      "execution_count": null,
      "outputs": []
    },
    {
      "cell_type": "code",
      "source": [
        "df['labels'].value_counts()"
      ],
      "metadata": {
        "id": "IvXznxmhc7Sf"
      },
      "execution_count": null,
      "outputs": []
    },
    {
      "cell_type": "code",
      "source": [
        "df = df[df['labels'].isin([1,2])]\n",
        "df.head()"
      ],
      "metadata": {
        "id": "rQDdIsR6fHPG"
      },
      "execution_count": null,
      "outputs": []
    },
    {
      "cell_type": "code",
      "source": [
        "df['labels'].value_counts()"
      ],
      "metadata": {
        "id": "DXvU9RJCfSE6"
      },
      "execution_count": null,
      "outputs": []
    },
    {
      "cell_type": "code",
      "source": [
        "#text preprocessing ( TEXT PREP)\n",
        "\n",
        "print(df['texts'].iloc[2])"
      ],
      "metadata": {
        "colab": {
          "base_uri": "https://localhost:8080/"
        },
        "id": "RtiIvyROfYWw",
        "outputId": "c9c7ec75-d497-47ae-c94c-42ca599b090d"
      },
      "execution_count": 22,
      "outputs": [
        {
          "output_type": "stream",
          "name": "stdout",
          "text": [
            "livinginparadise  ramada plaza beach resort\n"
          ]
        }
      ]
    },
    {
      "cell_type": "code",
      "source": [
        "df['texts'] = df['texts'].str.replace(\"@\", \"\")\n",
        "df['texts'] = df['texts'].str.replace(\"#\", \"\")\n",
        "df['texts'] = df['texts'].str.replace(\"\\d+\", \"\")\n",
        "df['texts'] = df['texts'].str.replace(\"/\", \"\")\n",
        "df['texts'] = df['texts'].str.lower()"
      ],
      "metadata": {
        "id": "a8ExQTqxg3G6"
      },
      "execution_count": null,
      "outputs": []
    },
    {
      "cell_type": "code",
      "source": [
        "df"
      ],
      "metadata": {
        "id": "X1cjRR7hjEF3"
      },
      "execution_count": null,
      "outputs": []
    },
    {
      "cell_type": "code",
      "source": [
        "import itertools\n",
        "\n",
        "vocab = list( itertools.chain.from_iterable( df['texts']))\n",
        "vocab = list(set(vocab))\n",
        "len(vocab)"
      ],
      "metadata": {
        "colab": {
          "base_uri": "https://localhost:8080/"
        },
        "id": "rUPIJ-gMj12E",
        "outputId": "69fc1fab-2863-41b2-d3d6-6d484532348c"
      },
      "execution_count": 27,
      "outputs": [
        {
          "output_type": "execute_result",
          "data": {
            "text/plain": [
              "56"
            ]
          },
          "metadata": {},
          "execution_count": 27
        }
      ]
    },
    {
      "cell_type": "code",
      "source": [
        "#feature extraction\n",
        "\n",
        "#BoW - Bag of words\n",
        "from sklearn.feature_extraction.text import CountVectorizer\n",
        "\n",
        "bow = CountVectorizer()\n",
        "bow.fit(df['texts'])\n",
        "\n",
        "\n",
        "\n",
        "#TfIdf\n",
        "#Word2Vec"
      ],
      "metadata": {
        "colab": {
          "base_uri": "https://localhost:8080/"
        },
        "id": "jHjb9nN2kikP",
        "outputId": "5fb400d2-4efd-4a6b-e48f-23512130a0e3"
      },
      "execution_count": 28,
      "outputs": [
        {
          "output_type": "execute_result",
          "data": {
            "text/plain": [
              "CountVectorizer()"
            ]
          },
          "metadata": {},
          "execution_count": 28
        }
      ]
    },
    {
      "cell_type": "code",
      "source": [
        "bow = bow.transform(df['texts'])\n",
        "print(bow.shape)"
      ],
      "metadata": {
        "colab": {
          "base_uri": "https://localhost:8080/"
        },
        "id": "nUyGJ2Bfocno",
        "outputId": "e2de7fe8-ae17-4d38-c0fd-c6b32b9e1462"
      },
      "execution_count": 29,
      "outputs": [
        {
          "output_type": "stream",
          "name": "stdout",
          "text": [
            "(1025, 3678)\n"
          ]
        }
      ]
    },
    {
      "cell_type": "code",
      "source": [
        "\n",
        "#TfIdf\n",
        "from sklearn.feature_extraction.text import TfidfVectorizer\n",
        "\n",
        "tfidf = TfidfVectorizer(ngram_range=(2, 2))\n",
        "tfidf.fit(df['texts'])\n",
        "tfidf = tfidf.transform(df['texts'])\n",
        "print(tfidf.shape)\n"
      ],
      "metadata": {
        "colab": {
          "base_uri": "https://localhost:8080/"
        },
        "id": "xl5JwegUq6H9",
        "outputId": "6e9a0e50-e4f8-4798-ccd9-33ab261c9dc9"
      },
      "execution_count": 31,
      "outputs": [
        {
          "output_type": "stream",
          "name": "stdout",
          "text": [
            "(1025, 8216)\n"
          ]
        }
      ]
    },
    {
      "cell_type": "code",
      "source": [
        "from sklearn.model_selection import train_test_split as ts\n",
        "\n",
        "xt,xts,yt,yts = ts(bow, df['labels'])\n",
        "\n",
        "from sklearn.neighbors import KNeighborsClassifier\n",
        "from sklearn.naive_bayes import MultinomialNB\n",
        "from sklearn.metrics import accuracy_score as acc\n",
        "\n",
        "knn = KNeighborsClassifier(n_neighbors=5)\n",
        "knn.fit(xt,yt)\n",
        "knn_pred = knn.predict(xts)\n",
        "print(acc(knn_pred, yts))\n",
        "\n",
        "nb = MultinomialNB()\n",
        "nb.fit(xt,yt)\n",
        "nb_pred = nb.predict(xts)\n",
        "print(acc(nb_pred, yts))\n"
      ],
      "metadata": {
        "colab": {
          "base_uri": "https://localhost:8080/"
        },
        "id": "2Iyk6tmzo-uZ",
        "outputId": "386e1199-2e38-4882-dba1-a82524e0e554"
      },
      "execution_count": 30,
      "outputs": [
        {
          "output_type": "stream",
          "name": "stdout",
          "text": [
            "0.5058365758754864\n",
            "0.6498054474708171\n"
          ]
        }
      ]
    },
    {
      "cell_type": "code",
      "source": [
        "from sklearn.model_selection import train_test_split as ts\n",
        "\n",
        "xt,xts,yt,yts = ts(tfidf, df['labels'])\n",
        "\n",
        "from sklearn.neighbors import KNeighborsClassifier\n",
        "from sklearn.naive_bayes import MultinomialNB\n",
        "from sklearn.metrics import accuracy_score as acc\n",
        "\n",
        "knn = KNeighborsClassifier(n_neighbors=5)\n",
        "knn.fit(xt,yt)\n",
        "knn_pred = knn.predict(xts)\n",
        "print(acc(knn_pred, yts))\n",
        "\n",
        "nb = MultinomialNB()\n",
        "nb.fit(xt,yt)\n",
        "nb_pred = nb.predict(xts)\n",
        "print(acc(nb_pred, yts))\n"
      ],
      "metadata": {
        "colab": {
          "base_uri": "https://localhost:8080/"
        },
        "id": "dvbYJOMZsFGr",
        "outputId": "cf906116-6a2c-4416-eb2f-df4dc7d027ae"
      },
      "execution_count": 32,
      "outputs": [
        {
          "output_type": "stream",
          "name": "stdout",
          "text": [
            "0.622568093385214\n",
            "0.6108949416342413\n"
          ]
        }
      ]
    }
  ]
}