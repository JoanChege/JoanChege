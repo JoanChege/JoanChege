{
  "nbformat": 4,
  "nbformat_minor": 0,
  "metadata": {
    "colab": {
      "provenance": [],
      "authorship_tag": "ABX9TyOwV9CPrFMwVrGVI2byuZ1D",
      "include_colab_link": true
    },
    "kernelspec": {
      "name": "python3",
      "display_name": "Python 3"
    },
    "language_info": {
      "name": "python"
    }
  },
  "cells": [
    {
      "cell_type": "markdown",
      "metadata": {
        "id": "view-in-github",
        "colab_type": "text"
      },
      "source": [
        "<a href=\"https://colab.research.google.com/github/JoanChege/JoanChege/blob/main/Q_learning.ipynb\" target=\"_parent\"><img src=\"https://colab.research.google.com/assets/colab-badge.svg\" alt=\"Open In Colab\"/></a>"
      ]
    },
    {
      "cell_type": "code",
      "execution_count": null,
      "metadata": {
        "id": "ga-azydR6DzG"
      },
      "outputs": [],
      "source": [
        "import numpy as np"
      ]
    },
    {
      "cell_type": "code",
      "source": [
        "#set up the environment\n",
        "grid_rows = 2\n",
        "grid_cols = 3\n",
        "num_actions = 4\n",
        "\n",
        "#define the reward matrix\n",
        "rewards = np.array([\n",
        "    ['S', 1, 0],\n",
        "    [0, -10, 10]\n",
        "])\n"
      ],
      "metadata": {
        "id": "bs3Ytkbu6IT7"
      },
      "execution_count": null,
      "outputs": []
    },
    {
      "cell_type": "code",
      "source": [
        "# Define the Q-Table\n",
        "q_table = np.zeros((6, 4))"
      ],
      "metadata": {
        "id": "pUNROAC36tNC"
      },
      "execution_count": null,
      "outputs": []
    },
    {
      "cell_type": "code",
      "source": [
        "# Set hyper-parameters\n",
        "alpha = 0.1  # learning rate\n",
        "gamma = 0.9  # discount factor\n",
        "epsilon = 0.1  # exploration rate"
      ],
      "metadata": {
        "id": "ikoW08XQ6-3R"
      },
      "execution_count": null,
      "outputs": []
    },
    {
      "cell_type": "code",
      "source": [
        "# Define the sample environment as a transition matrix\n",
        "# Each row represents a state, and each column represents an action\n",
        "# The values in the matrix represent the resulting state when an action is taken from a particular state\n",
        "# For example, if state 0 takes action 2 (Right), it transitions to state 1\n",
        "#environment = np.array([[1, 3, 0, 0],  # State 0: Up, Down, Right, Left\n",
        "                       #[2, 4, 1, 0],  # State 1: Up, Down, Right, Left\n",
        "                       #[2, 5, 2, 1],  # State 2: Up, Down, Right, Left\n",
        "                       #[4, 3, 3, 0],  # State 3: Up, Down, Right, Left\n",
        "                       #[4, 5, 4, 3],  # State 4: Up, Down, Right, Left\n",
        "                       #[5, 5, 5, 5]]) # State 5: Up, Down, Right, Left"
      ],
      "metadata": {
        "id": "gOnPvOR-7SAa"
      },
      "execution_count": 6,
      "outputs": []
    },
    {
      "cell_type": "code",
      "source": [
        "# Q-learning algorithm\n",
        "for episode in range(num_actions):\n",
        "    # Reset the environment to the initial state\n",
        "    state = 0\n",
        "\n",
        "    # Continue until reaching the goal state (State 5)\n",
        "    while state != 5:\n",
        "        # Choose an action using an epsilon-greedy policy\n",
        "        epsilon = 0.1  # Exploration rate\n",
        "        if np.random.uniform() < epsilon:\n",
        "            action = np.random.randint(4)  # Explore\n",
        "        else:\n",
        "            action = np.argmax(q_table[state])  # Exploit\n",
        "\n",
        "        # Perform the chosen action and observe the next state and reward\n",
        "        next_state = environment[state, action]\n",
        "        reward = 0 if next_state == 5 else -1  # Reward of -1 for non-goal states\n",
        "\n",
        "        # Update the Q-value using the Q-learning update rule\n",
        "        q_table[state, action] += alpha * (reward + gamma * np.max(q_table[next_state]) - q_table[state, action])\n",
        "\n",
        "        # Transition to the next state\n",
        "        state = next_state\n"
      ],
      "metadata": {
        "id": "0doZBCZV7ddB"
      },
      "execution_count": 9,
      "outputs": []
    },
    {
      "cell_type": "code",
      "source": [
        "# Print the learned Q-values\n",
        "print(\"Learned Q-values:\")\n",
        "print(q_table)"
      ],
      "metadata": {
        "id": "-5BO3Gyh7jPM",
        "colab": {
          "base_uri": "https://localhost:8080/"
        },
        "outputId": "92082f31-3af4-4c3c-d92f-6ab32f8ba20d"
      },
      "execution_count": 10,
      "outputs": [
        {
          "output_type": "stream",
          "name": "stdout",
          "text": [
            "Learned Q-values:\n",
            "[[-0.5607541  -0.501859   -0.58519851 -0.58519851]\n",
            " [-0.19       -0.271      -0.199      -0.25022796]\n",
            " [-0.1         0.          0.          0.        ]\n",
            " [-0.271      -0.199      -0.199      -0.34074271]\n",
            " [-0.1         0.          0.          0.        ]\n",
            " [ 0.          0.          0.          0.        ]]\n"
          ]
        }
      ]
    }
  ]
}